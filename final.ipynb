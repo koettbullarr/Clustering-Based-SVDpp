{
 "cells": [
  {
   "cell_type": "code",
   "execution_count": 18,
   "metadata": {},
   "outputs": [
    {
     "name": "stdout",
     "output_type": "stream",
     "text": [
      " processing epoch 0\n",
      " processing epoch 1\n",
      " processing epoch 2\n",
      " processing epoch 3\n",
      " processing epoch 4\n",
      " processing epoch 5\n",
      " processing epoch 6\n",
      " processing epoch 7\n",
      " processing epoch 8\n",
      " processing epoch 9\n"
     ]
    }
   ],
   "source": [
    "import numpy as np\n",
    "import pandas as pd\n",
    "from surprise import Dataset, SVDpp\n",
    "from surprise.model_selection import train_test_split\n",
    "from sklearn.cluster import KMeans\n",
    "from sklearn.metrics import mean_squared_error\n",
    "from collections import defaultdict\n",
    "\n",
    "# Load the ML100k dataset\n",
    "data = Dataset.load_builtin('ml-100k')\n",
    "trainset, testset = train_test_split(data, test_size=0.2)\n",
    "\n",
    "# Initialize and train the SVD++ model\n",
    "algo = SVDpp(random_state = 0, n_epochs=10, verbose=True)\n",
    "algo.fit(trainset)\n",
    "\n",
    "# Clustering\n",
    "num_clusters = 50  # Number of clusters\n",
    "user_features = algo.pu\n",
    "item_features = algo.qi\n",
    "yj_features = algo.yj\n",
    "\n",
    "# Clustering user features to find pCu\n",
    "kmeans_user = KMeans(n_clusters=num_clusters, random_state=42)\n",
    "user_labels = kmeans_user.fit_predict(user_features)\n",
    "pCu = kmeans_user.cluster_centers_\n",
    "\n",
    "# Clustering item features to find qCi\n",
    "kmeans_item = KMeans(n_clusters=num_clusters, random_state=42)\n",
    "item_labels = kmeans_item.fit_predict(item_features)\n",
    "qCi = kmeans_item.cluster_centers_\n",
    "\n",
    "# Clustering yj features to find yCj\n",
    "kmeans_yj = KMeans(n_clusters=num_clusters, random_state=42)\n",
    "yj_labels = kmeans_yj.fit_predict(yj_features)\n",
    "yCj = kmeans_yj.cluster_centers_\n",
    "\n",
    "bi = algo.bi\n",
    "bu = algo.bu\n",
    "\n",
    "# Initialize dictionaries to store |N(u)|^-0.5 and N(u) for each user\n",
    "Nu_minus_half = defaultdict(float)\n",
    "Nu = defaultdict(set)\n",
    "\n",
    "for u, i, _ in trainset.all_ratings():\n",
    "    # Update the set of items for user 'u'\n",
    "    Nu[u].add(i)\n",
    "\n",
    "# Calculate |N(u)|^-0.5 for each user\n",
    "for u in Nu:\n",
    "    Nu_minus_half[u] = 1 / np.sqrt(len(Nu[u]))\n",
    "\n",
    "# Convert Nu from a set of item indices to a list for easier processing later\n",
    "Nu = {u: list(items) for u, items in Nu.items()}"
   ]
  },
  {
   "cell_type": "code",
   "execution_count": 2,
   "metadata": {},
   "outputs": [],
   "source": [
    "def predictor_function(alpha, user_id, item_id, item_labels, user_labels, qi, qCi, pu, pCu, Nu_minus_half, Nu, yj, yCj, bi, bu):\n",
    "    user_id = int(user_id)\n",
    "    item_id = int(item_id)\n",
    "    \n",
    "    part1 = ((1-alpha)*qi[item_id] + alpha*qCi[item_labels[item_id]]).T\n",
    "    part2 = ((1-alpha)*pu[user_id]+alpha*pCu[user_labels[user_id]])\n",
    "\n",
    "    # Assuming 'yj' and 'yCj' are passed correctly as dictionaries or arrays where you can access an item using its ID or cluster ID\n",
    "    sum_result = np.zeros_like(pu[user_id])   # Use 'pu' dimension as a reference for initializing 'sum_result'\n",
    "    \n",
    "    for j in Nu[user_id]:  # Iterating over items in N(u)\n",
    "        # Map item ID to cluster ID for accessing yCj\n",
    "        cluster_id = item_labels[j]\n",
    "        \n",
    "        term = (1 - alpha) * yj[j] + alpha * yCj[cluster_id]  # Accessing yCj with cluster_id\n",
    "        sum_result += term\n",
    "\n",
    "    intermediate = part2 + (Nu_minus_half[user_id] * sum_result)\n",
    "    res = np.dot(part1, intermediate) + bi[item_id] + bu[user_id] # Adding biases at the end\n",
    "    return res\n"
   ]
  },
  {
   "cell_type": "code",
   "execution_count": 3,
   "metadata": {},
   "outputs": [],
   "source": [
    "minus_half_powers = {user: len(items)**(-0.5) for user, items in Nu.items()}"
   ]
  },
  {
   "cell_type": "code",
   "execution_count": 6,
   "metadata": {},
   "outputs": [
    {
     "data": {
      "text/plain": [
       "(0.05538487756217113, 0.05538487756217113)"
      ]
     },
     "execution_count": 6,
     "metadata": {},
     "output_type": "execute_result"
    }
   ],
   "source": [
    "minus_half_powers[0], Nu_minus_half[0]"
   ]
  },
  {
   "cell_type": "code",
   "execution_count": 18,
   "metadata": {},
   "outputs": [
    {
     "name": "stderr",
     "output_type": "stream",
     "text": [
      "/var/folders/8c/_sr2kqv935l1jvwxjljct8680000gn/T/ipykernel_31917/2814495144.py:4: RuntimeWarning: invalid value encountered in power\n",
      "  pred = predictor_function(0.2, u, i, item_labels, user_labels, item_features, qCi, user_features, pCu, pow(yj_features, -0.5), yj_features, yj_features, yCj, bi, bu)\n"
     ]
    },
    {
     "ename": "IndexError",
     "evalue": "only integers, slices (`:`), ellipsis (`...`), numpy.newaxis (`None`) and integer or boolean arrays are valid indices",
     "output_type": "error",
     "traceback": [
      "\u001b[0;31m---------------------------------------------------------------------------\u001b[0m",
      "\u001b[0;31mIndexError\u001b[0m                                Traceback (most recent call last)",
      "Cell \u001b[0;32mIn[18], line 4\u001b[0m\n\u001b[1;32m      1\u001b[0m u \u001b[38;5;241m=\u001b[39m trainset\u001b[38;5;241m.\u001b[39mto_inner_uid(\u001b[38;5;28mstr\u001b[39m(\u001b[38;5;241m100\u001b[39m))\n\u001b[1;32m      2\u001b[0m i \u001b[38;5;241m=\u001b[39m trainset\u001b[38;5;241m.\u001b[39mto_inner_uid(\u001b[38;5;28mstr\u001b[39m(\u001b[38;5;241m50\u001b[39m))\n\u001b[0;32m----> 4\u001b[0m pred \u001b[38;5;241m=\u001b[39m predictor_function(\u001b[38;5;241m0.2\u001b[39m, u, i, item_labels, user_labels, item_features, qCi, user_features, pCu, \u001b[38;5;28mpow\u001b[39m(yj_features, \u001b[38;5;241m-\u001b[39m\u001b[38;5;241m0.5\u001b[39m), yj_features, yj_features, yCj, bi, bu)\n",
      "Cell \u001b[0;32mIn[13], line 13\u001b[0m, in \u001b[0;36mpredictor_function\u001b[0;34m(alpha, user_id, item_id, item_labels, user_labels, qi, qCi, pu, pCu, Nu_minus_half, Nu, yj, yCj, bi, bu)\u001b[0m\n\u001b[1;32m      9\u001b[0m sum_result \u001b[38;5;241m=\u001b[39m np\u001b[38;5;241m.\u001b[39mzeros_like(pu[user_id])   \u001b[38;5;66;03m# Use 'pu' dimension as a reference for initializing 'sum_result'\u001b[39;00m\n\u001b[1;32m     11\u001b[0m \u001b[38;5;28;01mfor\u001b[39;00m j \u001b[38;5;129;01min\u001b[39;00m Nu[user_id]:  \u001b[38;5;66;03m# Iterating over items in N(u)\u001b[39;00m\n\u001b[1;32m     12\u001b[0m     \u001b[38;5;66;03m# Map item ID to cluster ID for accessing yCj\u001b[39;00m\n\u001b[0;32m---> 13\u001b[0m     cluster_id \u001b[38;5;241m=\u001b[39m item_labels[j]\n\u001b[1;32m     15\u001b[0m     term \u001b[38;5;241m=\u001b[39m (\u001b[38;5;241m1\u001b[39m \u001b[38;5;241m-\u001b[39m alpha) \u001b[38;5;241m*\u001b[39m yj[j] \u001b[38;5;241m+\u001b[39m alpha \u001b[38;5;241m*\u001b[39m yCj[cluster_id]  \u001b[38;5;66;03m# Accessing yCj with cluster_id\u001b[39;00m\n\u001b[1;32m     16\u001b[0m     sum_result \u001b[38;5;241m+\u001b[39m\u001b[38;5;241m=\u001b[39m term\n",
      "\u001b[0;31mIndexError\u001b[0m: only integers, slices (`:`), ellipsis (`...`), numpy.newaxis (`None`) and integer or boolean arrays are valid indices"
     ]
    }
   ],
   "source": [
    "u = trainset.to_inner_uid(str(100))\n",
    "i = trainset.to_inner_uid(str(50))\n",
    "\n",
    "pred = predictor_function(0.2, u, i, item_labels, user_labels, item_features, qCi, user_features, pCu, pow(yj_features, -0.5), yj_features, yj_features, yCj, bi, bu)"
   ]
  },
  {
   "cell_type": "code",
   "execution_count": 14,
   "metadata": {},
   "outputs": [],
   "source": [
    "alpha = 0.2\n",
    "predictions = []\n",
    "y_true = []\n",
    "\n",
    "for user_id, item_id, actual_rating in testset:  \n",
    "    \n",
    "    try:\n",
    "        user_id = algo.trainset.to_inner_uid(str(user_id))\n",
    "        item_id = algo.trainset.to_inner_iid(str(item_id))\n",
    "\n",
    "        predicted_rating = predictor_function(alpha, user_id, item_id, item_labels, user_labels, item_features, qCi,\n",
    "                                        user_features, pCu, Nu_minus_half, Nu, yj_features, yCj, algo.bi, algo.bu)\n",
    "\n",
    "        predictions.append(predicted_rating)\n",
    "        y_true.append(actual_rating)\n",
    "    except Exception as e:\n",
    "        pass\n"
   ]
  },
  {
   "cell_type": "code",
   "execution_count": 15,
   "metadata": {},
   "outputs": [],
   "source": [
    "min_val = min(predictions)\n",
    "max_val = max(predictions)\n",
    "new_min = min(y_true)\n",
    "new_max = max(y_true)\n",
    "\n",
    "# Apply scaling to each prediction\n",
    "scaled_predictions = [(x - min_val) / (max_val - min_val) * (new_max - new_min) + new_min for x in predictions]\n"
   ]
  },
  {
   "cell_type": "code",
   "execution_count": 16,
   "metadata": {},
   "outputs": [
    {
     "name": "stdout",
     "output_type": "stream",
     "text": [
      "Test RMSE: 0.9682211099578129\n"
     ]
    }
   ],
   "source": [
    "print(f\"Test RMSE: {np.sqrt(mean_squared_error(y_true, scaled_predictions))}\")"
   ]
  },
  {
   "cell_type": "code",
   "execution_count": 6,
   "metadata": {},
   "outputs": [],
   "source": [
    "user_id = algo.trainset.to_inner_uid(str(50))\n",
    "item_id = algo.trainset.to_inner_iid(str(100))\n",
    "alpha = 0.15\n",
    "\n",
    "predicted_rating = predictor_function(alpha, user_id, item_id, item_labels, user_labels, item_features, qCi,\n",
    "                                user_features, pCu, Nu_minus_half, Nu, yj_features, yCj, algo.bi, algo.bu)"
   ]
  },
  {
   "cell_type": "code",
   "execution_count": 7,
   "metadata": {},
   "outputs": [
    {
     "data": {
      "text/plain": [
       "0.41250036631492965"
      ]
     },
     "execution_count": 7,
     "metadata": {},
     "output_type": "execute_result"
    }
   ],
   "source": [
    "predicted_rating"
   ]
  },
  {
   "cell_type": "code",
   "execution_count": 30,
   "metadata": {},
   "outputs": [],
   "source": [
    "from cluster_rec import CB_SVDpp"
   ]
  },
  {
   "cell_type": "code",
   "execution_count": 1,
   "metadata": {},
   "outputs": [],
   "source": [
    "import numpy as np\n",
    "import pandas as pd\n",
    "from surprise import Dataset, SVDpp\n",
    "from surprise.model_selection import train_test_split\n",
    "from sklearn.cluster import KMeans\n",
    "from sklearn.metrics import mean_squared_error\n",
    "from collections import defaultdict\n",
    "\n",
    "# Load the ML100k dataset\n",
    "data = Dataset.load_builtin('ml-100k')\n",
    "trainset, testset = train_test_split(data, test_size=0.2)"
   ]
  },
  {
   "cell_type": "code",
   "execution_count": 47,
   "metadata": {},
   "outputs": [],
   "source": [
    "algo = CB_SVDpp(num_clusters=200, alpha=0.15)"
   ]
  },
  {
   "cell_type": "code",
   "execution_count": 48,
   "metadata": {},
   "outputs": [
    {
     "name": "stdout",
     "output_type": "stream",
     "text": [
      "Model fitted! Parameters updated.\n"
     ]
    }
   ],
   "source": [
    "algo.fit(trainset=trainset, random_state=123)\n",
    "algo.calc_Nu(trainset)"
   ]
  },
  {
   "cell_type": "code",
   "execution_count": 49,
   "metadata": {},
   "outputs": [],
   "source": [
    "y_pred, y_true = algo.predict_df(testset)"
   ]
  },
  {
   "cell_type": "code",
   "execution_count": 50,
   "metadata": {},
   "outputs": [
    {
     "name": "stdout",
     "output_type": "stream",
     "text": [
      "RMSE: 0.9646200554398879\n"
     ]
    }
   ],
   "source": [
    "print(f\"RMSE: {np.sqrt(mean_squared_error(y_true, y_pred))}\")"
   ]
  },
  {
   "cell_type": "code",
   "execution_count": 41,
   "metadata": {},
   "outputs": [
    {
     "data": {
      "text/plain": [
       "<surprise.prediction_algorithms.matrix_factorization.SVDpp at 0x14d14db90>"
      ]
     },
     "execution_count": 41,
     "metadata": {},
     "output_type": "execute_result"
    }
   ],
   "source": [
    "algo = SVDpp()\n",
    "algo.fit(trainset)"
   ]
  },
  {
   "cell_type": "code",
   "execution_count": 44,
   "metadata": {},
   "outputs": [],
   "source": [
    "from surprise import accuracy"
   ]
  },
  {
   "cell_type": "code",
   "execution_count": 45,
   "metadata": {},
   "outputs": [
    {
     "name": "stdout",
     "output_type": "stream",
     "text": [
      "RMSE: 0.9217\n"
     ]
    }
   ],
   "source": [
    "predictions = algo.test(testset)\n",
    "\n",
    "# Compute RMSE\n",
    "rmse = accuracy.rmse(predictions)"
   ]
  },
  {
   "cell_type": "code",
   "execution_count": 46,
   "metadata": {},
   "outputs": [
    {
     "data": {
      "text/plain": [
       "0.9216692470634698"
      ]
     },
     "execution_count": 46,
     "metadata": {},
     "output_type": "execute_result"
    }
   ],
   "source": [
    "rmse"
   ]
  },
  {
   "cell_type": "code",
   "execution_count": 14,
   "metadata": {},
   "outputs": [
    {
     "name": "stdout",
     "output_type": "stream",
     "text": [
      "Model fitted! Parameters updated.\n",
      "1.08172642354242\n"
     ]
    }
   ],
   "source": [
    "import numpy as np\n",
    "import random\n",
    "\n",
    "# Set a global random seed\n",
    "random.seed(42)\n",
    "np.random.seed(42)\n",
    "\n",
    "# Assuming train_test_split is used somewhere before this\n",
    "trainset, testset = train_test_split(data, test_size=0.25, random_state=42)\n",
    "\n",
    "# Then your existing setup\n",
    "algo = CB_SVDpp(50, 0.15)\n",
    "algo.fit(trainset, 123)  # This random_state only affects KMeans within fit\n",
    "algo.calc_Nu(trainset)\n",
    "y_pred, y_true = algo.predict_df(testset)\n",
    "\n",
    "# Compute RMSE\n",
    "rmse = np.sqrt(mean_squared_error(y_true, y_pred))\n",
    "print(rmse)"
   ]
  },
  {
   "cell_type": "code",
   "execution_count": 16,
   "metadata": {},
   "outputs": [
    {
     "name": "stdout",
     "output_type": "stream",
     "text": [
      "Model fitted! Parameters updated.\n",
      "0.9748010215668316\n"
     ]
    }
   ],
   "source": [
    "# Then your existing setup\n",
    "algo = CB_SVDpp(200, 0.15)\n",
    "algo.fit(trainset, 123)  # This random_state only affects KMeans within fit\n",
    "algo.calc_Nu(trainset)\n",
    "y_pred, y_true = algo.predict_df(testset)\n",
    "\n",
    "# Compute RMSE\n",
    "rmse = np.sqrt(mean_squared_error(y_true, y_pred))\n",
    "print(rmse)"
   ]
  },
  {
   "cell_type": "code",
   "execution_count": 3,
   "metadata": {},
   "outputs": [],
   "source": [
    "from surprise import Dataset\n",
    "from surprise.model_selection import cross_validate, train_test_split\n",
    "import numpy as np\n",
    "\n",
    "# Define your custom cross-validation function\n",
    "def custom_cross_validation(algo_class, data, alpha_values, cluster_values, cv=3):\n",
    "    \"\"\"\n",
    "    Perform cross-validation to find the best alpha and cluster values.\n",
    "    \n",
    "    Args:\n",
    "        algo_class: The algorithm class to use (e.g., CB_SVDpp).\n",
    "        data: The dataset to use for training and testing.\n",
    "        alpha_values (list): List of alpha values to try.\n",
    "        cluster_values (list): List of cluster counts to try.\n",
    "        cv (int): Number of splits for cross-validation.\n",
    "        \n",
    "    Returns:\n",
    "        dict: Results for each parameter combination.\n",
    "        tuple: Best alpha and cluster values based on mean RMSE.\n",
    "    \"\"\"\n",
    "    \n",
    "    results = {}\n",
    "    for alpha in alpha_values:\n",
    "        for clusters in cluster_values:\n",
    "            print(f\"Testing alpha={alpha}, clusters={clusters}\")\n",
    "            rmses = []\n",
    "            \n",
    "            trainset, testset = train_test_split(data, test_size=0.25, random_state=123)\n",
    "            model = algo_class(num_clusters=clusters, alpha=alpha)\n",
    "            model.fit(trainset, random_state=42)\n",
    "            model.calc_Nu(trainset)\n",
    "            \n",
    "            for _ in range(cv):\n",
    "\n",
    "                y_pred, y_true = model.predict_df(testset)  # Assuming predict_df returns (predictions, _)\n",
    "                rmse = np.sqrt(mean_squared_error(y_true, y_pred))\n",
    "                rmses.append(rmse)\n",
    "            \n",
    "            mean_rmse = np.mean(rmses)\n",
    "            results[(alpha, clusters)] = mean_rmse\n",
    "            print(f\"Mean RMSE: {mean_rmse}\")\n",
    "    \n",
    "    # Find the best parameters\n",
    "    best_params = min(results, key=results.get)\n",
    "    print(f\"Best params (alpha, clusters): {best_params}, RMSE: {results[best_params]}\")\n",
    "    \n",
    "    return results, best_params\n"
   ]
  },
  {
   "cell_type": "code",
   "execution_count": 4,
   "metadata": {},
   "outputs": [
    {
     "name": "stdout",
     "output_type": "stream",
     "text": [
      "Testing alpha=0.1, clusters=50\n",
      "Model fitted! Parameters updated.\n",
      "Mean RMSE: 1.1613853935622103\n",
      "Testing alpha=0.1, clusters=100\n",
      "Model fitted! Parameters updated.\n",
      "Mean RMSE: 0.9961615256573507\n",
      "Testing alpha=0.1, clusters=150\n",
      "Model fitted! Parameters updated.\n",
      "Mean RMSE: 1.141414111900156\n",
      "Testing alpha=0.15, clusters=50\n",
      "Model fitted! Parameters updated.\n",
      "Mean RMSE: 1.1603923447066868\n",
      "Testing alpha=0.15, clusters=100\n",
      "Model fitted! Parameters updated.\n",
      "Mean RMSE: 1.0851258033435416\n",
      "Testing alpha=0.15, clusters=150\n",
      "Model fitted! Parameters updated.\n",
      "Mean RMSE: 1.1718569812299953\n",
      "Testing alpha=0.2, clusters=50\n",
      "Model fitted! Parameters updated.\n",
      "Mean RMSE: 1.0100738633112216\n",
      "Testing alpha=0.2, clusters=100\n",
      "Model fitted! Parameters updated.\n",
      "Mean RMSE: 1.0002334839327713\n",
      "Testing alpha=0.2, clusters=150\n",
      "Model fitted! Parameters updated.\n",
      "Mean RMSE: 1.0069956227244\n",
      "Best params (alpha, clusters): (0.1, 100), RMSE: 0.9961615256573507\n"
     ]
    }
   ],
   "source": [
    "alpha_values = [0.1, 0.15, 0.2]\n",
    "cluster_values = [50, 100, 150]\n",
    "\n",
    "results, best_params = custom_cross_validation(CB_SVDpp, data, alpha_values, cluster_values, cv=3)"
   ]
  },
  {
   "cell_type": "code",
   "execution_count": 21,
   "metadata": {},
   "outputs": [],
   "source": [
    "alpha = []\n",
    "clusters = []\n",
    "rmses = list(results.values())  # This line is fine as is.\n",
    "\n",
    "for t in results.keys():\n",
    "    alpha.append(t[0])  # t is a tuple (alpha, clusters)\n",
    "    clusters.append(t[1])"
   ]
  },
  {
   "cell_type": "code",
   "execution_count": 22,
   "metadata": {},
   "outputs": [
    {
     "data": {
      "application/vnd.plotly.v1+json": {
       "config": {
        "plotlyServerURL": "https://plot.ly"
       },
       "data": [
        {
         "marker": {
          "color": [
           1.1613853935622103,
           0.9961615256573507,
           1.141414111900156,
           1.1603923447066868,
           1.0851258033435416,
           1.1718569812299953,
           1.0100738633112216,
           1.0002334839327713,
           1.0069956227244
          ],
          "colorscale": [
           [
            0,
            "#440154"
           ],
           [
            0.1111111111111111,
            "#482878"
           ],
           [
            0.2222222222222222,
            "#3e4989"
           ],
           [
            0.3333333333333333,
            "#31688e"
           ],
           [
            0.4444444444444444,
            "#26828e"
           ],
           [
            0.5555555555555556,
            "#1f9e89"
           ],
           [
            0.6666666666666666,
            "#35b779"
           ],
           [
            0.7777777777777778,
            "#6ece58"
           ],
           [
            0.8888888888888888,
            "#b5de2b"
           ],
           [
            1,
            "#fde725"
           ]
          ],
          "opacity": 0.8,
          "size": 5
         },
         "mode": "markers",
         "type": "scatter3d",
         "x": [
          0.1,
          0.1,
          0.1,
          0.15,
          0.15,
          0.15,
          0.2,
          0.2,
          0.2
         ],
         "y": [
          50,
          100,
          150,
          50,
          100,
          150,
          50,
          100,
          150
         ],
         "z": [
          1.1613853935622103,
          0.9961615256573507,
          1.141414111900156,
          1.1603923447066868,
          1.0851258033435416,
          1.1718569812299953,
          1.0100738633112216,
          1.0002334839327713,
          1.0069956227244
         ]
        }
       ],
       "layout": {
        "scene": {
         "xaxis": {
          "title": {
           "text": "Alpha"
          }
         },
         "yaxis": {
          "title": {
           "text": "Clusters"
          }
         },
         "zaxis": {
          "title": {
           "text": "RMSE"
          }
         }
        },
        "template": {
         "data": {
          "bar": [
           {
            "error_x": {
             "color": "#2a3f5f"
            },
            "error_y": {
             "color": "#2a3f5f"
            },
            "marker": {
             "line": {
              "color": "#E5ECF6",
              "width": 0.5
             },
             "pattern": {
              "fillmode": "overlay",
              "size": 10,
              "solidity": 0.2
             }
            },
            "type": "bar"
           }
          ],
          "barpolar": [
           {
            "marker": {
             "line": {
              "color": "#E5ECF6",
              "width": 0.5
             },
             "pattern": {
              "fillmode": "overlay",
              "size": 10,
              "solidity": 0.2
             }
            },
            "type": "barpolar"
           }
          ],
          "carpet": [
           {
            "aaxis": {
             "endlinecolor": "#2a3f5f",
             "gridcolor": "white",
             "linecolor": "white",
             "minorgridcolor": "white",
             "startlinecolor": "#2a3f5f"
            },
            "baxis": {
             "endlinecolor": "#2a3f5f",
             "gridcolor": "white",
             "linecolor": "white",
             "minorgridcolor": "white",
             "startlinecolor": "#2a3f5f"
            },
            "type": "carpet"
           }
          ],
          "choropleth": [
           {
            "colorbar": {
             "outlinewidth": 0,
             "ticks": ""
            },
            "type": "choropleth"
           }
          ],
          "contour": [
           {
            "colorbar": {
             "outlinewidth": 0,
             "ticks": ""
            },
            "colorscale": [
             [
              0,
              "#0d0887"
             ],
             [
              0.1111111111111111,
              "#46039f"
             ],
             [
              0.2222222222222222,
              "#7201a8"
             ],
             [
              0.3333333333333333,
              "#9c179e"
             ],
             [
              0.4444444444444444,
              "#bd3786"
             ],
             [
              0.5555555555555556,
              "#d8576b"
             ],
             [
              0.6666666666666666,
              "#ed7953"
             ],
             [
              0.7777777777777778,
              "#fb9f3a"
             ],
             [
              0.8888888888888888,
              "#fdca26"
             ],
             [
              1,
              "#f0f921"
             ]
            ],
            "type": "contour"
           }
          ],
          "contourcarpet": [
           {
            "colorbar": {
             "outlinewidth": 0,
             "ticks": ""
            },
            "type": "contourcarpet"
           }
          ],
          "heatmap": [
           {
            "colorbar": {
             "outlinewidth": 0,
             "ticks": ""
            },
            "colorscale": [
             [
              0,
              "#0d0887"
             ],
             [
              0.1111111111111111,
              "#46039f"
             ],
             [
              0.2222222222222222,
              "#7201a8"
             ],
             [
              0.3333333333333333,
              "#9c179e"
             ],
             [
              0.4444444444444444,
              "#bd3786"
             ],
             [
              0.5555555555555556,
              "#d8576b"
             ],
             [
              0.6666666666666666,
              "#ed7953"
             ],
             [
              0.7777777777777778,
              "#fb9f3a"
             ],
             [
              0.8888888888888888,
              "#fdca26"
             ],
             [
              1,
              "#f0f921"
             ]
            ],
            "type": "heatmap"
           }
          ],
          "heatmapgl": [
           {
            "colorbar": {
             "outlinewidth": 0,
             "ticks": ""
            },
            "colorscale": [
             [
              0,
              "#0d0887"
             ],
             [
              0.1111111111111111,
              "#46039f"
             ],
             [
              0.2222222222222222,
              "#7201a8"
             ],
             [
              0.3333333333333333,
              "#9c179e"
             ],
             [
              0.4444444444444444,
              "#bd3786"
             ],
             [
              0.5555555555555556,
              "#d8576b"
             ],
             [
              0.6666666666666666,
              "#ed7953"
             ],
             [
              0.7777777777777778,
              "#fb9f3a"
             ],
             [
              0.8888888888888888,
              "#fdca26"
             ],
             [
              1,
              "#f0f921"
             ]
            ],
            "type": "heatmapgl"
           }
          ],
          "histogram": [
           {
            "marker": {
             "pattern": {
              "fillmode": "overlay",
              "size": 10,
              "solidity": 0.2
             }
            },
            "type": "histogram"
           }
          ],
          "histogram2d": [
           {
            "colorbar": {
             "outlinewidth": 0,
             "ticks": ""
            },
            "colorscale": [
             [
              0,
              "#0d0887"
             ],
             [
              0.1111111111111111,
              "#46039f"
             ],
             [
              0.2222222222222222,
              "#7201a8"
             ],
             [
              0.3333333333333333,
              "#9c179e"
             ],
             [
              0.4444444444444444,
              "#bd3786"
             ],
             [
              0.5555555555555556,
              "#d8576b"
             ],
             [
              0.6666666666666666,
              "#ed7953"
             ],
             [
              0.7777777777777778,
              "#fb9f3a"
             ],
             [
              0.8888888888888888,
              "#fdca26"
             ],
             [
              1,
              "#f0f921"
             ]
            ],
            "type": "histogram2d"
           }
          ],
          "histogram2dcontour": [
           {
            "colorbar": {
             "outlinewidth": 0,
             "ticks": ""
            },
            "colorscale": [
             [
              0,
              "#0d0887"
             ],
             [
              0.1111111111111111,
              "#46039f"
             ],
             [
              0.2222222222222222,
              "#7201a8"
             ],
             [
              0.3333333333333333,
              "#9c179e"
             ],
             [
              0.4444444444444444,
              "#bd3786"
             ],
             [
              0.5555555555555556,
              "#d8576b"
             ],
             [
              0.6666666666666666,
              "#ed7953"
             ],
             [
              0.7777777777777778,
              "#fb9f3a"
             ],
             [
              0.8888888888888888,
              "#fdca26"
             ],
             [
              1,
              "#f0f921"
             ]
            ],
            "type": "histogram2dcontour"
           }
          ],
          "mesh3d": [
           {
            "colorbar": {
             "outlinewidth": 0,
             "ticks": ""
            },
            "type": "mesh3d"
           }
          ],
          "parcoords": [
           {
            "line": {
             "colorbar": {
              "outlinewidth": 0,
              "ticks": ""
             }
            },
            "type": "parcoords"
           }
          ],
          "pie": [
           {
            "automargin": true,
            "type": "pie"
           }
          ],
          "scatter": [
           {
            "fillpattern": {
             "fillmode": "overlay",
             "size": 10,
             "solidity": 0.2
            },
            "type": "scatter"
           }
          ],
          "scatter3d": [
           {
            "line": {
             "colorbar": {
              "outlinewidth": 0,
              "ticks": ""
             }
            },
            "marker": {
             "colorbar": {
              "outlinewidth": 0,
              "ticks": ""
             }
            },
            "type": "scatter3d"
           }
          ],
          "scattercarpet": [
           {
            "marker": {
             "colorbar": {
              "outlinewidth": 0,
              "ticks": ""
             }
            },
            "type": "scattercarpet"
           }
          ],
          "scattergeo": [
           {
            "marker": {
             "colorbar": {
              "outlinewidth": 0,
              "ticks": ""
             }
            },
            "type": "scattergeo"
           }
          ],
          "scattergl": [
           {
            "marker": {
             "colorbar": {
              "outlinewidth": 0,
              "ticks": ""
             }
            },
            "type": "scattergl"
           }
          ],
          "scattermapbox": [
           {
            "marker": {
             "colorbar": {
              "outlinewidth": 0,
              "ticks": ""
             }
            },
            "type": "scattermapbox"
           }
          ],
          "scatterpolar": [
           {
            "marker": {
             "colorbar": {
              "outlinewidth": 0,
              "ticks": ""
             }
            },
            "type": "scatterpolar"
           }
          ],
          "scatterpolargl": [
           {
            "marker": {
             "colorbar": {
              "outlinewidth": 0,
              "ticks": ""
             }
            },
            "type": "scatterpolargl"
           }
          ],
          "scatterternary": [
           {
            "marker": {
             "colorbar": {
              "outlinewidth": 0,
              "ticks": ""
             }
            },
            "type": "scatterternary"
           }
          ],
          "surface": [
           {
            "colorbar": {
             "outlinewidth": 0,
             "ticks": ""
            },
            "colorscale": [
             [
              0,
              "#0d0887"
             ],
             [
              0.1111111111111111,
              "#46039f"
             ],
             [
              0.2222222222222222,
              "#7201a8"
             ],
             [
              0.3333333333333333,
              "#9c179e"
             ],
             [
              0.4444444444444444,
              "#bd3786"
             ],
             [
              0.5555555555555556,
              "#d8576b"
             ],
             [
              0.6666666666666666,
              "#ed7953"
             ],
             [
              0.7777777777777778,
              "#fb9f3a"
             ],
             [
              0.8888888888888888,
              "#fdca26"
             ],
             [
              1,
              "#f0f921"
             ]
            ],
            "type": "surface"
           }
          ],
          "table": [
           {
            "cells": {
             "fill": {
              "color": "#EBF0F8"
             },
             "line": {
              "color": "white"
             }
            },
            "header": {
             "fill": {
              "color": "#C8D4E3"
             },
             "line": {
              "color": "white"
             }
            },
            "type": "table"
           }
          ]
         },
         "layout": {
          "annotationdefaults": {
           "arrowcolor": "#2a3f5f",
           "arrowhead": 0,
           "arrowwidth": 1
          },
          "autotypenumbers": "strict",
          "coloraxis": {
           "colorbar": {
            "outlinewidth": 0,
            "ticks": ""
           }
          },
          "colorscale": {
           "diverging": [
            [
             0,
             "#8e0152"
            ],
            [
             0.1,
             "#c51b7d"
            ],
            [
             0.2,
             "#de77ae"
            ],
            [
             0.3,
             "#f1b6da"
            ],
            [
             0.4,
             "#fde0ef"
            ],
            [
             0.5,
             "#f7f7f7"
            ],
            [
             0.6,
             "#e6f5d0"
            ],
            [
             0.7,
             "#b8e186"
            ],
            [
             0.8,
             "#7fbc41"
            ],
            [
             0.9,
             "#4d9221"
            ],
            [
             1,
             "#276419"
            ]
           ],
           "sequential": [
            [
             0,
             "#0d0887"
            ],
            [
             0.1111111111111111,
             "#46039f"
            ],
            [
             0.2222222222222222,
             "#7201a8"
            ],
            [
             0.3333333333333333,
             "#9c179e"
            ],
            [
             0.4444444444444444,
             "#bd3786"
            ],
            [
             0.5555555555555556,
             "#d8576b"
            ],
            [
             0.6666666666666666,
             "#ed7953"
            ],
            [
             0.7777777777777778,
             "#fb9f3a"
            ],
            [
             0.8888888888888888,
             "#fdca26"
            ],
            [
             1,
             "#f0f921"
            ]
           ],
           "sequentialminus": [
            [
             0,
             "#0d0887"
            ],
            [
             0.1111111111111111,
             "#46039f"
            ],
            [
             0.2222222222222222,
             "#7201a8"
            ],
            [
             0.3333333333333333,
             "#9c179e"
            ],
            [
             0.4444444444444444,
             "#bd3786"
            ],
            [
             0.5555555555555556,
             "#d8576b"
            ],
            [
             0.6666666666666666,
             "#ed7953"
            ],
            [
             0.7777777777777778,
             "#fb9f3a"
            ],
            [
             0.8888888888888888,
             "#fdca26"
            ],
            [
             1,
             "#f0f921"
            ]
           ]
          },
          "colorway": [
           "#636efa",
           "#EF553B",
           "#00cc96",
           "#ab63fa",
           "#FFA15A",
           "#19d3f3",
           "#FF6692",
           "#B6E880",
           "#FF97FF",
           "#FECB52"
          ],
          "font": {
           "color": "#2a3f5f"
          },
          "geo": {
           "bgcolor": "white",
           "lakecolor": "white",
           "landcolor": "#E5ECF6",
           "showlakes": true,
           "showland": true,
           "subunitcolor": "white"
          },
          "hoverlabel": {
           "align": "left"
          },
          "hovermode": "closest",
          "mapbox": {
           "style": "light"
          },
          "paper_bgcolor": "white",
          "plot_bgcolor": "#E5ECF6",
          "polar": {
           "angularaxis": {
            "gridcolor": "white",
            "linecolor": "white",
            "ticks": ""
           },
           "bgcolor": "#E5ECF6",
           "radialaxis": {
            "gridcolor": "white",
            "linecolor": "white",
            "ticks": ""
           }
          },
          "scene": {
           "xaxis": {
            "backgroundcolor": "#E5ECF6",
            "gridcolor": "white",
            "gridwidth": 2,
            "linecolor": "white",
            "showbackground": true,
            "ticks": "",
            "zerolinecolor": "white"
           },
           "yaxis": {
            "backgroundcolor": "#E5ECF6",
            "gridcolor": "white",
            "gridwidth": 2,
            "linecolor": "white",
            "showbackground": true,
            "ticks": "",
            "zerolinecolor": "white"
           },
           "zaxis": {
            "backgroundcolor": "#E5ECF6",
            "gridcolor": "white",
            "gridwidth": 2,
            "linecolor": "white",
            "showbackground": true,
            "ticks": "",
            "zerolinecolor": "white"
           }
          },
          "shapedefaults": {
           "line": {
            "color": "#2a3f5f"
           }
          },
          "ternary": {
           "aaxis": {
            "gridcolor": "white",
            "linecolor": "white",
            "ticks": ""
           },
           "baxis": {
            "gridcolor": "white",
            "linecolor": "white",
            "ticks": ""
           },
           "bgcolor": "#E5ECF6",
           "caxis": {
            "gridcolor": "white",
            "linecolor": "white",
            "ticks": ""
           }
          },
          "title": {
           "x": 0.05
          },
          "xaxis": {
           "automargin": true,
           "gridcolor": "white",
           "linecolor": "white",
           "ticks": "",
           "title": {
            "standoff": 15
           },
           "zerolinecolor": "white",
           "zerolinewidth": 2
          },
          "yaxis": {
           "automargin": true,
           "gridcolor": "white",
           "linecolor": "white",
           "ticks": "",
           "title": {
            "standoff": 15
           },
           "zerolinecolor": "white",
           "zerolinewidth": 2
          }
         }
        },
        "title": {
         "text": "3D Scatter Plot of RMSEs by Alpha and Cluster Count"
        }
       }
      }
     },
     "metadata": {},
     "output_type": "display_data"
    }
   ],
   "source": [
    "import plotly.graph_objects as go\n",
    "\n",
    "# Assuming alpha, clusters, and rmses are lists with corresponding elements\n",
    "x = list(alpha)  # Ensure these are lists or arrays\n",
    "y = list(clusters)\n",
    "z = list(rmses)\n",
    "\n",
    "# Create a 3D scatter plot\n",
    "fig = go.Figure(data=[go.Scatter3d(x=x, y=y, z=z, mode='markers', \n",
    "                                   marker=dict(size=5, color=z, colorscale='Viridis', opacity=0.8))])\n",
    "\n",
    "# Set plot layout\n",
    "fig.update_layout(title='3D Scatter Plot of RMSEs by Alpha and Cluster Count', scene=dict(\n",
    "                    xaxis_title='Alpha',\n",
    "                    yaxis_title='Clusters',\n",
    "                    zaxis_title='RMSE'))\n",
    "\n",
    "# Show plot\n",
    "fig.show()\n"
   ]
  }
 ],
 "metadata": {
  "kernelspec": {
   "display_name": "base",
   "language": "python",
   "name": "python3"
  },
  "language_info": {
   "codemirror_mode": {
    "name": "ipython",
    "version": 3
   },
   "file_extension": ".py",
   "mimetype": "text/x-python",
   "name": "python",
   "nbconvert_exporter": "python",
   "pygments_lexer": "ipython3",
   "version": "3.11.7"
  }
 },
 "nbformat": 4,
 "nbformat_minor": 2
}
